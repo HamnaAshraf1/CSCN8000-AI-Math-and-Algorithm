{
 "cells": [
  {
   "cell_type": "markdown",
   "metadata": {},
   "source": [
    "LAB1:\n",
    "\n",
    "Name: Hamna Ashraf\n",
    "\n",
    "Student ID: 8826836\n",
    "\n"
   ]
  },
  {
   "cell_type": "markdown",
   "metadata": {},
   "source": [
    "## Part A: Create a Notebook to demonstrate NumPy Operations."
   ]
  },
  {
   "cell_type": "markdown",
   "metadata": {},
   "source": [
    "### 1. Create an array that starts from the integer 1, ends at 20, incremented by 3. "
   ]
  },
  {
   "cell_type": "code",
   "execution_count": 90,
   "metadata": {},
   "outputs": [
    {
     "name": "stdout",
     "output_type": "stream",
     "text": [
      "Array from range 1-20, step 3\n",
      " [ 1  4  7 10 13 16 19]\n"
     ]
    }
   ],
   "source": [
    "import numpy as np\n",
    "\n",
    "arr = np.arange(1,20,3)\n",
    "print(\"Array from range 1-20, step 3\\n\",arr)"
   ]
  },
  {
   "cell_type": "markdown",
   "metadata": {},
   "source": [
    "### 2. Create a new array of shape 3 with random numbers between 0 and 1. "
   ]
  },
  {
   "cell_type": "code",
   "execution_count": 91,
   "metadata": {},
   "outputs": [
    {
     "name": "stdout",
     "output_type": "stream",
     "text": [
      "Random Array of shape 3 with random 0-1:\n",
      " [0.3863535  0.29246051 0.84702886]\n"
     ]
    }
   ],
   "source": [
    "\n",
    "arr_random = np.random.random(3,)\n",
    "print(\"Random Array of shape 3 with random 0-1:\\n\", arr_random)\n"
   ]
  },
  {
   "cell_type": "markdown",
   "metadata": {},
   "source": [
    "### 3. Create a 2 D array [[ 10, 20, 45],[30, 12, 16],[42, 17, 56]] and perform the following operations:\n",
    "<ul>\n",
    "<li>Slice the 2D array to get the first two rows</li>\n",
    "<li>Slice the 2D array to get the last two rows.</li>\n",
    "</ul>"
   ]
  },
  {
   "cell_type": "code",
   "execution_count": 92,
   "metadata": {},
   "outputs": [
    {
     "name": "stdout",
     "output_type": "stream",
     "text": [
      "First 2 rows: \n",
      " [[10 20 45]\n",
      " [30 12 16]]\n",
      "\n",
      "Last 2 rows: \n",
      " [[30 12 16]\n",
      " [42 17 56]]\n"
     ]
    }
   ],
   "source": [
    "arr_2d = np.array([[10,20,45],[30,12,16],[42,17,56]])\n",
    "print(\"First 2 rows: \\n\", arr_2d[:2])\n",
    "\n",
    "print(\"\\nLast 2 rows: \\n\", arr_2d[-2:])\n"
   ]
  },
  {
   "cell_type": "markdown",
   "metadata": {},
   "source": [
    "### 4. Create two 2 x 2 arrays and demonstrate how you can stack the elements vertically, horizontally, and split the arrays into smaller arrays. "
   ]
  },
  {
   "cell_type": "code",
   "execution_count": 93,
   "metadata": {},
   "outputs": [
    {
     "name": "stdout",
     "output_type": "stream",
     "text": [
      "\n",
      "Horizontal Stack: \n",
      " [[1 2 5 6]\n",
      " [3 4 7 8]]\n",
      "Vertical Stack: \n",
      " [[1 2]\n",
      " [3 4]\n",
      " [5 6]\n",
      " [7 8]]\n",
      "\n",
      "Horizontal Array split into 2:\n",
      " [array([[1, 2, 5, 6]]), array([[3, 4, 7, 8]])]\n",
      "\n",
      "Vertical Array split into 4:\n",
      " [array([[1, 2]]), array([[3, 4]]), array([[5, 6]]), array([[7, 8]])]\n"
     ]
    }
   ],
   "source": [
    "arr_1= np.array([[1,2],[3,4]])\n",
    "arr_2 = np.array([[5,6], [7,8]])\n",
    "\n",
    "#Horizontal Split\n",
    "hstack = np.concatenate((arr_1, arr_2), axis = 1)\n",
    "print(\"\\nHorizontal Stack: \\n\",hstack)\n",
    "\n",
    "#Vertical Split\n",
    "vstack = np.concatenate((arr_1, arr_2), axis = 0)\n",
    "print(\"Vertical Stack: \\n\",vstack)\n",
    "\n",
    "#Splits\n",
    "split_harray = np.split(hstack, 2)\n",
    "print(\"\\nHorizontal Array split into 2:\\n\",split_harray)\n",
    "\n",
    "split_varray = np.split(vstack,4)\n",
    "print(\"\\nVertical Array split into 4:\\n\",split_varray)\n"
   ]
  },
  {
   "cell_type": "markdown",
   "metadata": {},
   "source": [
    "### 5. Create two matrices 𝑋= ([[5, 7, 2], [4, 5, 6], [7, 4 , 2]]), 𝑌= ([[4, 2],[6, 2],[4, 2]] ),\n",
    "\n",
    "<ul>\n",
    "<li>\n",
    "Is it possible to multiply these matrices? </li>\n",
    "<li>\n",
    "Demonstrate the case when it is not possible to. \n",
    "</li>\n",
    "</ul>"
   ]
  },
  {
   "cell_type": "markdown",
   "metadata": {},
   "source": [
    "<b>Answer:</b>\n",
    "\n",
    "Yes, it is possible to multiply these matrices.\n",
    "\n",
    "It is because shape of matrix X = [[5, 7, 2], [4, 5, 6], [7, 4, 2]] is '3 x 3' and Y = [[4, 2], [6, 2], [4, 2]] is '3 x 2'\n",
    "\n",
    "The inner value for both matrices (Column of X and Row of Y) is same i.e 3, therefore, we will be able to multiply these arrays."
   ]
  },
  {
   "cell_type": "code",
   "execution_count": 102,
   "metadata": {},
   "outputs": [
    {
     "name": "stdout",
     "output_type": "stream",
     "text": [
      "[[70 28]\n",
      " [70 30]\n",
      " [60 26]]\n"
     ]
    }
   ],
   "source": [
    "X= np.array([[5,7,2],\n",
    "             [4,5,6],\n",
    "             [7,4,2]]) #3x3\n",
    "\n",
    "Y= np.array([[4,2], #3x2\n",
    "             [6,2],\n",
    "             [4,2]])\n",
    "\n",
    "arr_result = np.dot(X,Y)\n",
    "\n",
    "print(arr_result)\n",
    "#There is no error while multiplying these matrices"
   ]
  },
  {
   "cell_type": "markdown",
   "metadata": {},
   "source": [
    "<b>Case when Multiplication is not possible:</b>\n",
    "\n",
    "Multiplication of matrices is not possible when Column of X and Row of Y are not same.\n",
    "\n",
    "E.g: when X = [[5, 7, 2], [4, 5, 6], [7, 4, 2]], Y = [[4, 2, 3], [6, 2, 5]]"
   ]
  },
  {
   "cell_type": "markdown",
   "metadata": {},
   "source": [
    "### 6. Create two arrays, 𝑥 = ([2, −1, −8]) 𝑦 = ([3, 1, −2])\n",
    "<ul>\n",
    "<li> Find the Shape, Number of dimensions of vector x.</li>\n",
    "<li> Reshape the vector x to a matrix of size (3,1) and determine the number of dimensions after reshaping y to a matrix of (3,1)</li>\n",
    "</ul>"
   ]
  },
  {
   "cell_type": "code",
   "execution_count": 95,
   "metadata": {},
   "outputs": [
    {
     "name": "stdout",
     "output_type": "stream",
     "text": [
      "Shape of vector x: (3,) \n",
      "Dimention of vector x: 1\n",
      "Dimention after reshaping y: 2\n"
     ]
    }
   ],
   "source": [
    "x = np.array([2,-1,-8]) \n",
    "y = np.array([3,1,-2])\n",
    "\n",
    "print(f\"Shape of vector x: {x.shape} \")\n",
    "print(f\"Dimention of vector x: {x.ndim}\")\n",
    "\n",
    "reshaped_x = x.reshape(3,1)\n",
    "reshaped_y = y.reshape(3,1)\n",
    "\n",
    "print(f\"Dimention after reshaping y: {reshaped_x.ndim}\")\n"
   ]
  },
  {
   "cell_type": "markdown",
   "metadata": {},
   "source": [
    "### How does broadcasting work?\n",
    "When performing arithmatic operations, numpy expands the smaller shape to match the larger shape. It is done to make the operation possible between the two.\n",
    "\n",
    "\n",
    "<b>E.g:</b>\n",
    "\n",
    "If we take a 3 x 3 matrix X:\n",
    "\n",
    "[[1, 3, 4]\\\n",
    " [2, 5, 2]\\\n",
    " [1, 2, 6]]\n",
    "\n",
    "While performing arithematic operations \"*\" and \"-\" on Matrix X with an array x [4, 5, 6]:\\\n",
    "Array x is broadcasted and looks like:\\\n",
    "[4, 5, 6]\\\n",
    "[4, 5, 6]\\\n",
    "[4, 5, 6]"
   ]
  },
  {
   "cell_type": "code",
   "execution_count": 96,
   "metadata": {},
   "outputs": [
    {
     "name": "stdout",
     "output_type": "stream",
     "text": [
      "Multiplication:\n",
      " [[ 4 15 24]\n",
      " [ 8 25 12]\n",
      " [ 4 10 36]]\n",
      "\n",
      "Subtraction:\n",
      "  [[-3 -2 -2]\n",
      " [-2  0 -4]\n",
      " [-3 -3  0]]\n"
     ]
    }
   ],
   "source": [
    "X =np.array([[1, 3, 4],\n",
    "             [2, 5, 2],\n",
    "             [1, 2, 6]])\n",
    "\n",
    "x = np.array([4, 5, 6])\n",
    "\n",
    "print(\"Multiplication:\\n\", (X * x))\n",
    "print(\"\\nSubtraction:\\n \", (X - x))\n",
    "\n"
   ]
  },
  {
   "cell_type": "markdown",
   "metadata": {},
   "source": [
    "## Part B - Linear Equations :"
   ]
  },
  {
   "cell_type": "markdown",
   "metadata": {},
   "source": [
    "Determine the singularity of the system of equations, comment on the expected solution of the system. Solve the system of equations if possible. Justify the reason why you believe the system can or cannot be solved using NumPy functions. "
   ]
  },
  {
   "cell_type": "markdown",
   "metadata": {},
   "source": [
    "<b>Answer:</b>\\\n",
    "To check if a matrix is singular, we check the determinent of that matrix. If |det| is 0, then matrix is singular otherwise non-singular.\\\n",
    "If matrix is <i>non-singluar</i> then the <i>system of equations can be solved</i>, which means there is a unique solution. If matrix is <i>singular</i> it means that are <i>infinite or no solutions</i>"
   ]
  },
  {
   "cell_type": "markdown",
   "metadata": {},
   "source": [
    "### Part B.1:"
   ]
  },
  {
   "cell_type": "code",
   "execution_count": 97,
   "metadata": {},
   "outputs": [
    {
     "name": "stdout",
     "output_type": "stream",
     "text": [
      "Matrix is non-singular\n"
     ]
    }
   ],
   "source": [
    "singularity = True\n",
    "\n",
    "X = np.array([[4, 1,-2], \n",
    "             [2,-3, 2],\n",
    "             [1, 2, 3]])\n",
    "\n",
    "det = np.linalg.det(X)\n",
    "if(det==0):\n",
    "    singularity = True\n",
    "    print(\"Matrix is singular\")\n",
    "else:\n",
    "    singularity = False\n",
    "    print(\"Matrix is non-singular\")\n"
   ]
  },
  {
   "cell_type": "markdown",
   "metadata": {},
   "source": [
    "As matrix is non-singular then we can solve this system of equations using Numpy functions.\n",
    "\n"
   ]
  },
  {
   "cell_type": "code",
   "execution_count": 98,
   "metadata": {},
   "outputs": [
    {
     "name": "stdout",
     "output_type": "stream",
     "text": [
      "x = 1.7999999999999998\n",
      "y = 2.4\n",
      "z = -0.2\n"
     ]
    }
   ],
   "source": [
    "Y = np.array([10, -4, 6])\n",
    "\n",
    "x, y, z = np.linalg.solve(X, Y)\n",
    "\n",
    "print(f\"x = {x}\\ny = {y}\\nz = {z}\")"
   ]
  },
  {
   "cell_type": "markdown",
   "metadata": {},
   "source": [
    "### Part B.2:"
   ]
  },
  {
   "cell_type": "code",
   "execution_count": 99,
   "metadata": {},
   "outputs": [
    {
     "name": "stdout",
     "output_type": "stream",
     "text": [
      "Matrix is non-singular\n"
     ]
    }
   ],
   "source": [
    "singularity = True\n",
    "\n",
    "A = np.array([[2,-1, 3, 4], \n",
    "             [4,-2, 6, 8],\n",
    "             [3, 1,-2, 2],\n",
    "             [1, 3,-4, 1]])\n",
    "\n",
    "det = np.linalg.det(X)\n",
    "if(det==0):\n",
    "    singularity = True\n",
    "    print(\"Matrix is singular\")\n",
    "else:\n",
    "    singularity = False\n",
    "    print(\"Matrix is non-singular\")"
   ]
  },
  {
   "cell_type": "markdown",
   "metadata": {},
   "source": [
    "The Matrix A in part B.2 is singular, because the determinant came out to be 0.\\\n",
    "Therefore, this system of equations can not be solved with Numpy too. Singular matrix error is given if we try to solve it.\\\n",
    "\n",
    "\n",
    "To see the error message, uncomment the code given below."
   ]
  },
  {
   "cell_type": "code",
   "execution_count": 100,
   "metadata": {},
   "outputs": [],
   "source": [
    "# B = np.array([10, 20, 3, -1])\n",
    "\n",
    "# x, y, z, w = np.linalg.solve(A, B)\n",
    "\n",
    "# print(f\"x = {x}\\ny = {y}\\nz = {z}\\nw = {w}\")"
   ]
  }
 ],
 "metadata": {
  "kernelspec": {
   "display_name": "Python 3",
   "language": "python",
   "name": "python3"
  },
  "language_info": {
   "codemirror_mode": {
    "name": "ipython",
    "version": 3
   },
   "file_extension": ".py",
   "mimetype": "text/x-python",
   "name": "python",
   "nbconvert_exporter": "python",
   "pygments_lexer": "ipython3",
   "version": "3.11.7"
  }
 },
 "nbformat": 4,
 "nbformat_minor": 2
}
